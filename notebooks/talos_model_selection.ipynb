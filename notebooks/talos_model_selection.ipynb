{
 "cells": [
  {
   "cell_type": "code",
   "execution_count": 1,
   "metadata": {
    "scrolled": true
   },
   "outputs": [
    {
     "name": "stderr",
     "output_type": "stream",
     "text": [
      "Using TensorFlow backend.\n"
     ]
    }
   ],
   "source": [
    "import talos\n",
    "r = talos.Reporting('../talos_chrom_5/092519115258.csv')\n",
    "\n"
   ]
  },
  {
   "cell_type": "code",
   "execution_count": 5,
   "metadata": {
    "scrolled": false
   },
   "outputs": [
    {
     "name": "stdout",
     "output_type": "stream",
     "text": [
      "dropout_rate      0.000000\n",
      "hidden_neurons   -0.194182\n",
      "l1_reg            0.283962\n",
      "l2_reg            0.000000\n",
      "lr                0.358340\n",
      "Name: val_acc, dtype: float64\n"
     ]
    },
    {
     "data": {
      "text/plain": [
       "<matplotlib.axes._subplots.AxesSubplot at 0x15398e8d8ba8>"
      ]
     },
     "execution_count": 5,
     "metadata": {},
     "output_type": "execute_result"
    },
    {
     "data": {
      "image/png": "[encoded data removed]",
      "text/plain": [
       "<Figure size 432x288 with 2 Axes>"
      ]
     },
     "metadata": {
      "needs_background": "light"
     },
     "output_type": "display_data"
    }
   ],
   "source": [
    "import seaborn as sns\n",
    "from matplotlib import pyplot as plt\n",
    "r.rounds()\n",
    "correlations = r.correlate('val_acc', exclude=['round_epochs','epochs','n_snps','loss','val_loss','acc'])\n",
    "correlations['l2_reg']=0\n",
    "correlations['dropout_rate']=0\n",
    "\n",
    "print(correlations)\n",
    "\n",
    "df = correlations.to_frame().transpose()\n",
    "\n",
    "grid_kws = {\"height_ratios\": (.3, .05), \"hspace\": 1.5}\n",
    "f, axes = plt.subplots(2, gridspec_kw=grid_kws)\n",
    "\n",
    "plt.subplots_adjust(top=0.9)\n",
    "sns.heatmap(df, ax=axes[0],\n",
    "                cbar_ax=axes[1],\n",
    "                cmap=sns.color_palette(\"Blues\"),\n",
    "                square=True,\n",
    "                cbar_kws=dict(orientation=\"horizontal\"))\n",
    "#f.savefig('../img/correlation.svg', format='svg')"
   ]
  },
  {
   "cell_type": "code",
   "execution_count": 6,
   "metadata": {},
   "outputs": [
    {
     "data": {
      "text/plain": [
       "<function matplotlib.pyplot.tight_layout(pad=1.08, h_pad=None, w_pad=None, rect=None)>"
      ]
     },
     "execution_count": 6,
     "metadata": {},
     "output_type": "execute_result"
    },
    {
     "data": {
      "image/png": "[encoded data removed]",
      "text/plain": [
       "<Figure size 432x288 with 1 Axes>"
      ]
     },
     "metadata": {
      "needs_background": "light"
     },
     "output_type": "display_data"
    }
   ],
   "source": [
    "fig = plt.figure()\n",
    "ax = fig.add_subplot(1,1,1)\n",
    "ax = sns.distplot(r.table('val_acc')['lr'],hist=False, ax=ax)\n",
    "ax.set_xscale('log')\n",
    "ax.set_ylabel('Total Count')\n",
    "ax.set_xlabel('Learning Rate')\n",
    "plt.tight_layout\n",
    "#fig.savefig('../img/learning_rates.svg', format='svg')"
   ]
  },
  {
   "cell_type": "code",
   "execution_count": 12,
   "metadata": {
    "scrolled": false
   },
   "outputs": [
    {
     "name": "stdout",
     "output_type": "stream",
     "text": [
      "[Errno 2] No such file or directory: '../talos_hps/talos_chrom_1/'\n",
      "No report found for chromosome 1\n",
      "[Errno 2] No such file or directory: '../talos_hps/talos_chrom_2/'\n",
      "No report found for chromosome 2\n",
      "[Errno 2] No such file or directory: '../talos_hps/talos_chrom_3/'\n",
      "No report found for chromosome 3\n",
      "[Errno 2] No such file or directory: '../talos_hps/talos_chrom_4/'\n",
      "No report found for chromosome 4\n",
      "[Errno 2] No such file or directory: '../talos_hps/talos_chrom_5/'\n",
      "No report found for chromosome 5\n",
      "[Errno 2] No such file or directory: '../talos_hps/talos_chrom_6/'\n",
      "No report found for chromosome 6\n",
      "[Errno 2] No such file or directory: '../talos_hps/talos_chrom_7/'\n",
      "No report found for chromosome 7\n",
      "[Errno 2] No such file or directory: '../talos_hps/talos_chrom_8/'\n",
      "No report found for chromosome 8\n",
      "[Errno 2] No such file or directory: '../talos_hps/talos_chrom_9/'\n",
      "No report found for chromosome 9\n",
      "[Errno 2] No such file or directory: '../talos_hps/talos_chrom_10/'\n",
      "No report found for chromosome 10\n",
      "[Errno 2] No such file or directory: '../talos_hps/talos_chrom_11/'\n",
      "No report found for chromosome 11\n",
      "[Errno 2] No such file or directory: '../talos_hps/talos_chrom_12/'\n",
      "No report found for chromosome 12\n",
      "[Errno 2] No such file or directory: '../talos_hps/talos_chrom_13/'\n",
      "No report found for chromosome 13\n",
      "[Errno 2] No such file or directory: '../talos_hps/talos_chrom_14/'\n",
      "No report found for chromosome 14\n",
      "[Errno 2] No such file or directory: '../talos_hps/talos_chrom_15/'\n",
      "No report found for chromosome 15\n",
      "[Errno 2] No such file or directory: '../talos_hps/talos_chrom_16/'\n",
      "No report found for chromosome 16\n",
      "[Errno 2] No such file or directory: '../talos_hps/talos_chrom_17/'\n",
      "No report found for chromosome 17\n",
      "[Errno 2] No such file or directory: '../talos_hps/talos_chrom_18/'\n",
      "No report found for chromosome 18\n",
      "[Errno 2] No such file or directory: '../talos_hps/talos_chrom_19/'\n",
      "No report found for chromosome 19\n",
      "[Errno 2] No such file or directory: '../talos_hps/talos_chrom_20/'\n",
      "No report found for chromosome 20\n",
      "[Errno 2] No such file or directory: '../talos_hps/talos_chrom_21/'\n",
      "No report found for chromosome 21\n",
      "[Errno 2] No such file or directory: '../talos_hps/talos_chrom_22/'\n",
      "No report found for chromosome 22\n"
     ]
    },
    {
     "ename": "ZeroDivisionError",
     "evalue": "division by zero",
     "output_type": "error",
     "traceback": [
      "\u001b[0;31m---------------------------------------------------------------------------\u001b[0m",
      "\u001b[0;31mZeroDivisionError\u001b[0m                         Traceback (most recent call last)",
      "\u001b[0;32m<ipython-input-12-a01dfa454cbb>\u001b[0m in \u001b[0;36m<module>\u001b[0;34m\u001b[0m\n\u001b[1;32m     19\u001b[0m \u001b[0;34m\u001b[0m\u001b[0m\n\u001b[1;32m     20\u001b[0m \u001b[0;34m\u001b[0m\u001b[0m\n\u001b[0;32m---> 21\u001b[0;31m \u001b[0mval_acc\u001b[0m\u001b[0;34m/=\u001b[0m\u001b[0mcnt\u001b[0m\u001b[0;34m\u001b[0m\u001b[0;34m\u001b[0m\u001b[0m\n\u001b[0m\u001b[1;32m     22\u001b[0m \u001b[0mprint\u001b[0m\u001b[0;34m(\u001b[0m\u001b[0;34m'Average max validation accuracy: {}'\u001b[0m\u001b[0;34m.\u001b[0m\u001b[0mformat\u001b[0m\u001b[0;34m(\u001b[0m\u001b[0mval_acc\u001b[0m\u001b[0;34m)\u001b[0m\u001b[0;34m)\u001b[0m\u001b[0;34m\u001b[0m\u001b[0;34m\u001b[0m\u001b[0m\n",
      "\u001b[0;31mZeroDivisionError\u001b[0m: division by zero"
     ]
    }
   ],
   "source": [
    "import pandas as pd\n",
    "import os \n",
    "\n",
    "val_acc = 0\n",
    "cnt = 0\n",
    "for i in range(1,23):\n",
    "    try:\n",
    "        files = os.listdir('../talos_hps/talos_chrom_{}/'.format(i))\n",
    "        r = talos.Reporting(os.path.join('../talos_hps/talos_chrom_{}/'.format(i),files[0]))\n",
    "        data = r.table('val_acc', sort_by='val_acc', ascending=False)\n",
    "        best_row = data[data['acc']>0.80].iloc[0]\n",
    "        val_acc += best_row['val_acc']\n",
    "        print('Chrom: {}; Acc: {:.1f} % ; Val_acc: {:.1f} %'.format(i,best_row['acc']*100, best_row['val_acc']*100))\n",
    "        cnt+=1\n",
    "\n",
    "    except Exception as e:\n",
    "        print(e)\n",
    "        print('No report found for chromosome {}'.format(i))\n",
    "\n",
    "    \n",
    "val_acc/=cnt\n",
    "print('Average max validation accuracy: {}'.format(val_acc))\n"
   ]
  },
  {
   "cell_type": "code",
   "execution_count": 14,
   "metadata": {
    "scrolled": false
   },
   "outputs": [
    {
     "data": {
      "image/png": "[encoded data removed]",
      "text/plain": [
       "<Figure size 432x288 with 1 Axes>"
      ]
     },
     "metadata": {
      "needs_background": "light"
     },
     "output_type": "display_data"
    }
   ],
   "source": [
    "import talos\n",
    "import seaborn as sns\n",
    "\n",
    "data = r.table('val_acc', sort_by='val_acc', ascending=False)\n",
    "data = data[data['acc']>0.80]\n",
    "ax = sns.boxplot(x='l1_reg', y=\"val_acc\", data=data.reset_index(),color='salmon')\n"
   ]
  },
  {
   "cell_type": "code",
   "execution_count": 15,
   "metadata": {
    "scrolled": false
   },
   "outputs": [
    {
     "data": {
      "image/png": "[encoded data removed]",
      "text/plain": [
       "<Figure size 432x288 with 1 Axes>"
      ]
     },
     "metadata": {
      "needs_background": "light"
     },
     "output_type": "display_data"
    }
   ],
   "source": [
    "ax2 = sns.boxplot(x='lr', y=\"val_acc\", data=data.reset_index(),color='salmon')\n"
   ]
  },
  {
   "cell_type": "code",
   "execution_count": 16,
   "metadata": {},
   "outputs": [
    {
     "data": {
      "image/png": "[encoded data removed]",
      "text/plain": [
       "<Figure size 432x288 with 1 Axes>"
      ]
     },
     "metadata": {
      "needs_background": "light"
     },
     "output_type": "display_data"
    }
   ],
   "source": [
    "ax3 = sns.boxplot(x='hidden_neurons', y=\"val_acc\", data=data.reset_index(),color='salmon')\n"
   ]
  },
  {
   "cell_type": "code",
   "execution_count": null,
   "metadata": {},
   "outputs": [],
   "source": [
    "\n"
   ]
  },
  {
   "cell_type": "code",
   "execution_count": null,
   "metadata": {},
   "outputs": [],
   "source": []
  },
  {
   "cell_type": "code",
   "execution_count": null,
   "metadata": {},
   "outputs": [],
   "source": []
  },
  {
   "cell_type": "code",
   "execution_count": null,
   "metadata": {},
   "outputs": [],
   "source": []
  },
  {
   "cell_type": "code",
   "execution_count": null,
   "metadata": {},
   "outputs": [],
   "source": []
  }
 ],
 "metadata": {
  "kernelspec": {
   "display_name": "Python 3",
   "language": "python",
   "name": "python3"
  },
  "language_info": {
   "codemirror_mode": {
    "name": "ipython",
    "version": 3
   },
   "file_extension": ".py",
   "mimetype": "text/x-python",
   "name": "python",
   "nbconvert_exporter": "python",
   "pygments_lexer": "ipython3",
   "version": "3.6.9"
  }
 },
 "nbformat": 4,
 "nbformat_minor": 2
}
