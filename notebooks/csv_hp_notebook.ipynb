{
 "cells": [
  {
   "cell_type": "code",
   "execution_count": 36,
   "metadata": {},
   "outputs": [
    {
     "data": {
      "text/html": [
       "<div>\n",
       "<style scoped>\n",
       "    .dataframe tbody tr th:only-of-type {\n",
       "        vertical-align: middle;\n",
       "    }\n",
       "\n",
       "    .dataframe tbody tr th {\n",
       "        vertical-align: top;\n",
       "    }\n",
       "\n",
       "    .dataframe thead th {\n",
       "        text-align: right;\n",
       "    }\n",
       "</style>\n",
       "<table border=\"1\" class=\"dataframe\">\n",
       "  <thead>\n",
       "    <tr style=\"text-align: right;\">\n",
       "      <th></th>\n",
       "      <th>Unnamed: 0</th>\n",
       "      <th>acc</th>\n",
       "      <th>batch_size</th>\n",
       "      <th>dropout_rate</th>\n",
       "      <th>epochs</th>\n",
       "      <th>l1_reg</th>\n",
       "      <th>l2_reg</th>\n",
       "      <th>loss</th>\n",
       "      <th>lr</th>\n",
       "      <th>optimizer</th>\n",
       "      <th>val_acc</th>\n",
       "      <th>val_loss</th>\n",
       "    </tr>\n",
       "  </thead>\n",
       "  <tbody>\n",
       "    <tr>\n",
       "      <th>0</th>\n",
       "      <td>0</td>\n",
       "      <td>[0.49166666666666664, 0.4875, 0.50833333333333...</td>\n",
       "      <td>32</td>\n",
       "      <td>0.1</td>\n",
       "      <td>500</td>\n",
       "      <td>0.000001</td>\n",
       "      <td>0.1</td>\n",
       "      <td>[3.8679059664408366, 3.8669599533081054, 3.865...</td>\n",
       "      <td>[1e-04, 1e-04, 1e-04, 1e-04, 1e-04, 1e-04, 1e-...</td>\n",
       "      <td>&lt;keras.optimizers.SGD object at 0x14c50408acc0&gt;</td>\n",
       "      <td>[0.43333333532015483, 0.43333333532015483, 0.4...</td>\n",
       "      <td>[3.867119312286377, 3.8661028861999513, 3.8650...</td>\n",
       "    </tr>\n",
       "    <tr>\n",
       "      <th>1</th>\n",
       "      <td>1</td>\n",
       "      <td>[0.4125, 0.425, 0.44166666666666665, 0.4541666...</td>\n",
       "      <td>32</td>\n",
       "      <td>0.1</td>\n",
       "      <td>500</td>\n",
       "      <td>0.000001</td>\n",
       "      <td>0.1</td>\n",
       "      <td>[3.8480008602142335, 3.846992095311483, 3.8459...</td>\n",
       "      <td>[1e-04, 1e-04, 1e-04, 1e-04, 1e-04, 1e-04, 1e-...</td>\n",
       "      <td>&lt;keras.optimizers.SGD object at 0x14c50408acc0&gt;</td>\n",
       "      <td>[0.41666666269302366, 0.4333333293596903, 0.45...</td>\n",
       "      <td>[3.847352695465088, 3.8462409814198812, 3.8451...</td>\n",
       "    </tr>\n",
       "    <tr>\n",
       "      <th>2</th>\n",
       "      <td>2</td>\n",
       "      <td>[0.6541666666666667, 0.6541666666666667, 0.65,...</td>\n",
       "      <td>32</td>\n",
       "      <td>0.1</td>\n",
       "      <td>500</td>\n",
       "      <td>0.000001</td>\n",
       "      <td>0.1</td>\n",
       "      <td>[3.8264533042907716, 3.825379260381063, 3.8244...</td>\n",
       "      <td>[1e-04, 1e-04, 1e-04, 1e-04, 1e-04, 1e-04, 1e-...</td>\n",
       "      <td>&lt;keras.optimizers.SGD object at 0x14c50408acc0&gt;</td>\n",
       "      <td>[0.6666666547457377, 0.6833333214124043, 0.683...</td>\n",
       "      <td>[3.825862471262614, 3.8248005231221516, 3.8237...</td>\n",
       "    </tr>\n",
       "    <tr>\n",
       "      <th>3</th>\n",
       "      <td>3</td>\n",
       "      <td>[0.625, 0.6375, 0.6416666666666667, 0.64583333...</td>\n",
       "      <td>32</td>\n",
       "      <td>0.1</td>\n",
       "      <td>500</td>\n",
       "      <td>0.000001</td>\n",
       "      <td>0.1</td>\n",
       "      <td>[3.8062514781951906, 3.8051544030507407, 3.804...</td>\n",
       "      <td>[1e-04, 1e-04, 1e-04, 1e-04, 1e-04, 1e-04, 1e-...</td>\n",
       "      <td>&lt;keras.optimizers.SGD object at 0x14c50408acc0&gt;</td>\n",
       "      <td>[0.850000011920929, 0.850000011920929, 0.85000...</td>\n",
       "      <td>[3.8038549423217773, 3.802796713511149, 3.8017...</td>\n",
       "    </tr>\n",
       "    <tr>\n",
       "      <th>4</th>\n",
       "      <td>4</td>\n",
       "      <td>[0.49583333333333335, 0.5208333333333334, 0.5,...</td>\n",
       "      <td>32</td>\n",
       "      <td>0.1</td>\n",
       "      <td>500</td>\n",
       "      <td>0.000001</td>\n",
       "      <td>0.1</td>\n",
       "      <td>[3.8326863288879394, 3.822667376200358, 3.8127...</td>\n",
       "      <td>[0.001, 0.001, 0.001, 0.001, 0.001, 0.001, 0.0...</td>\n",
       "      <td>&lt;keras.optimizers.SGD object at 0x14c50408af98&gt;</td>\n",
       "      <td>[0.5333333333333333, 0.549999992052714, 0.5499...</td>\n",
       "      <td>[3.8267154057820636, 3.816703701019287, 3.8067...</td>\n",
       "    </tr>\n",
       "  </tbody>\n",
       "</table>\n",
       "</div>"
      ],
      "text/plain": [
       "   Unnamed: 0                                                acc  batch_size  \\\n",
       "0           0  [0.49166666666666664, 0.4875, 0.50833333333333...          32   \n",
       "1           1  [0.4125, 0.425, 0.44166666666666665, 0.4541666...          32   \n",
       "2           2  [0.6541666666666667, 0.6541666666666667, 0.65,...          32   \n",
       "3           3  [0.625, 0.6375, 0.6416666666666667, 0.64583333...          32   \n",
       "4           4  [0.49583333333333335, 0.5208333333333334, 0.5,...          32   \n",
       "\n",
       "   dropout_rate  epochs    l1_reg  l2_reg  \\\n",
       "0           0.1     500  0.000001     0.1   \n",
       "1           0.1     500  0.000001     0.1   \n",
       "2           0.1     500  0.000001     0.1   \n",
       "3           0.1     500  0.000001     0.1   \n",
       "4           0.1     500  0.000001     0.1   \n",
       "\n",
       "                                                loss  \\\n",
       "0  [3.8679059664408366, 3.8669599533081054, 3.865...   \n",
       "1  [3.8480008602142335, 3.846992095311483, 3.8459...   \n",
       "2  [3.8264533042907716, 3.825379260381063, 3.8244...   \n",
       "3  [3.8062514781951906, 3.8051544030507407, 3.804...   \n",
       "4  [3.8326863288879394, 3.822667376200358, 3.8127...   \n",
       "\n",
       "                                                  lr  \\\n",
       "0  [1e-04, 1e-04, 1e-04, 1e-04, 1e-04, 1e-04, 1e-...   \n",
       "1  [1e-04, 1e-04, 1e-04, 1e-04, 1e-04, 1e-04, 1e-...   \n",
       "2  [1e-04, 1e-04, 1e-04, 1e-04, 1e-04, 1e-04, 1e-...   \n",
       "3  [1e-04, 1e-04, 1e-04, 1e-04, 1e-04, 1e-04, 1e-...   \n",
       "4  [0.001, 0.001, 0.001, 0.001, 0.001, 0.001, 0.0...   \n",
       "\n",
       "                                         optimizer  \\\n",
       "0  <keras.optimizers.SGD object at 0x14c50408acc0>   \n",
       "1  <keras.optimizers.SGD object at 0x14c50408acc0>   \n",
       "2  <keras.optimizers.SGD object at 0x14c50408acc0>   \n",
       "3  <keras.optimizers.SGD object at 0x14c50408acc0>   \n",
       "4  <keras.optimizers.SGD object at 0x14c50408af98>   \n",
       "\n",
       "                                             val_acc  \\\n",
       "0  [0.43333333532015483, 0.43333333532015483, 0.4...   \n",
       "1  [0.41666666269302366, 0.4333333293596903, 0.45...   \n",
       "2  [0.6666666547457377, 0.6833333214124043, 0.683...   \n",
       "3  [0.850000011920929, 0.850000011920929, 0.85000...   \n",
       "4  [0.5333333333333333, 0.549999992052714, 0.5499...   \n",
       "\n",
       "                                            val_loss  \n",
       "0  [3.867119312286377, 3.8661028861999513, 3.8650...  \n",
       "1  [3.847352695465088, 3.8462409814198812, 3.8451...  \n",
       "2  [3.825862471262614, 3.8248005231221516, 3.8237...  \n",
       "3  [3.8038549423217773, 3.802796713511149, 3.8017...  \n",
       "4  [3.8267154057820636, 3.816703701019287, 3.8067...  "
      ]
     },
     "execution_count": 36,
     "metadata": {},
     "output_type": "execute_result"
    }
   ],
   "source": [
    "import pandas as pd\n",
    "import glob\n",
    "import os\n",
    "\n",
    "path = \"/home/hx/PythonImplementation/qsub_results/montaez\"                     \n",
    "all_files = glob.glob(os.path.join(path, \"*.csv\"))     # advisable to use os.path.join as this makes concatenation OS independent\n",
    "\n",
    "df_from_each_file = (pd.read_csv(f) for f in all_files)\n",
    "df   = pd.concat(df_from_each_file, ignore_index=True)\n",
    "df.head()"
   ]
  },
  {
   "cell_type": "code",
   "execution_count": 37,
   "metadata": {},
   "outputs": [],
   "source": [
    "from ast import literal_eval\n",
    "import numpy as np\n",
    "\n",
    "df.val_acc = df.val_acc.apply(literal_eval)\n",
    "df.val_loss = df.val_loss.apply(literal_eval)\n",
    "df.acc = df.acc.apply(literal_eval)\n",
    "df.loss = df.loss.apply(literal_eval)\n",
    "df.lr = df.lr.apply(literal_eval)"
   ]
  },
  {
   "cell_type": "code",
   "execution_count": 38,
   "metadata": {},
   "outputs": [
    {
     "name": "stdout",
     "output_type": "stream",
     "text": [
      "High five! You successfully sent some data to your account on plotly. View your plot in your browser at https://plot.ly/~hxkm/0 or inside your plot.ly account where it is named 'basic-line'\n"
     ]
    },
    {
     "data": {
      "text/html": [
       "<iframe id=\"igraph\" scrolling=\"no\" style=\"border:none;\" seamless=\"seamless\" src=\"https://plot.ly/~hxkm/0.embed\" height=\"525px\" width=\"100%\"></iframe>"
      ],
      "text/plain": [
       "<chart_studio.tools.PlotlyDisplay object>"
      ]
     },
     "execution_count": 38,
     "metadata": {},
     "output_type": "execute_result"
    },
    {
     "data": {
      "image/png": "[encoded data removed]",
      "text/plain": [
       "<Figure size 432x288 with 1 Axes>"
      ]
     },
     "metadata": {
      "needs_background": "light"
     },
     "output_type": "display_data"
    }
   ],
   "source": [
    "import plotly.plotly as py\n",
    "import plotly.graph_objs as go\n",
    "import matplotlib.pyplot as plt\n",
    "fig, axes = plt.subplots(1)\n",
    "\n",
    "axes.set_xlim((0,10))\n",
    "axes.set_ylim((0,1))\n",
    "\n",
    "traces = []\n",
    "for i, row in df.iterrows():\n",
    "    \n",
    "    if(row.val_acc[-1]>0.7 and row.val_acc[0]<0.6):\n",
    "        trace = go.Scatter(\n",
    "            x = np.arange(len(row.val_acc)),\n",
    "            y = row.val_acc,\n",
    "            name='l1:{}; l2:{}; dropout:{}; lr:{}'.format(row.l1_reg,row.l2_reg, row.dropout_rate,row.lr[0] ),\n",
    "            showlegend=False\n",
    "        )\n",
    "        traces.append(trace)\n",
    "    \n",
    "    \n",
    "py.iplot(traces, filename='basic-line')"
   ]
  },
  {
   "cell_type": "code",
   "execution_count": null,
   "metadata": {},
   "outputs": [],
   "source": []
  },
  {
   "cell_type": "code",
   "execution_count": null,
   "metadata": {},
   "outputs": [],
   "source": []
  },
  {
   "cell_type": "code",
   "execution_count": null,
   "metadata": {},
   "outputs": [],
   "source": []
  }
 ],
 "metadata": {
  "kernelspec": {
   "display_name": "Python 3",
   "language": "python",
   "name": "python3"
  },
  "language_info": {
   "codemirror_mode": {
    "name": "ipython",
    "version": 3
   },
   "file_extension": ".py",
   "mimetype": "text/x-python",
   "name": "python",
   "nbconvert_exporter": "python",
   "pygments_lexer": "ipython3",
   "version": "3.6.7"
  }
 },
 "nbformat": 4,
 "nbformat_minor": 2
}
