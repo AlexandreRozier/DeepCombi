{
 "cells": [
  {
   "cell_type": "code",
   "execution_count": 1,
   "metadata": {},
   "outputs": [],
   "source": [
    "import h5py\n",
    "import time\n",
    "\n"
   ]
  },
  {
   "cell_type": "code",
   "execution_count": null,
   "metadata": {},
   "outputs": [
    {
     "name": "stderr",
     "output_type": "stream",
     "text": [
      "\r",
      "  0%|          | 0/22 [00:00<?, ?it/s]"
     ]
    }
   ],
   "source": [
    "import numpy as np \n",
    "from tqdm import tqdm\n",
    "for chunksize in [10,50,100,500,1000]:\n",
    "    chunked_elapsed_time = 0\n",
    "    continous_elapsed_time = 0\n",
    "    for i in tqdm(range (1,23)):\n",
    "        with h5py.File('chromo_{}.mat'.format(i),'r') as f:\n",
    "            start = time.time()\n",
    "            data = f.get('X')[:]   \n",
    "            continous_elapsed_time += float(time.time() - start)\n",
    "        \n",
    "        with h5py.File('chromo_{}_chunked.mat','w') as f2:\n",
    "            chunked_dset = f2.create_dataset(\"X\", data=data, chunks=(chunksize, chunksize))\n",
    "        \n",
    "        del data\n",
    "        \n",
    "        with h5py.File('chromo_{}_chunked.mat','r') as f3:\n",
    "            start = time.time()\n",
    "            data = f3.get('X')[:]\n",
    "            chunked_elapsed_time += float(time.time() - start)\n",
    "\n",
    "    print ('Avg continous read time: {}'.format(continous_elapsed_time/22))\n",
    "    print ('Avg chunked read time: {}'.format(chunked_elapsed_time/22))\n"
   ]
  },
  {
   "cell_type": "code",
   "execution_count": null,
   "metadata": {},
   "outputs": [],
   "source": []
  },
  {
   "cell_type": "code",
   "execution_count": null,
   "metadata": {},
   "outputs": [],
   "source": []
  }
 ],
 "metadata": {
  "kernelspec": {
   "display_name": "Python [conda env:combi] *",
   "language": "python",
   "name": "conda-env-combi-py"
  },
  "language_info": {
   "codemirror_mode": {
    "name": "ipython",
    "version": 3
   },
   "file_extension": ".py",
   "mimetype": "text/x-python",
   "name": "python",
   "nbconvert_exporter": "python",
   "pygments_lexer": "ipython3",
   "version": "3.6.8"
  }
 },
 "nbformat": 4,
 "nbformat_minor": 2
}
