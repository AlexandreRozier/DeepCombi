{
 "cells": [
  {
   "cell_type": "code",
   "execution_count": 1,
   "metadata": {},
   "outputs": [
    {
     "name": "stderr",
     "output_type": "stream",
     "text": [
      "100%|██████████| 22/22 [18:46<00:00, 21.28s/it]\n",
      "100%|██████████| 22/22 [20:23<00:00, 19.38s/it]\n"
     ]
    }
   ],
   "source": [
    "import os \n",
    "import h5py\n",
    "import numpy as np\n",
    "from tqdm import tqdm\n",
    "\n",
    "for disease in ['T1D','T2D']:p\n",
    "    for i in tqdm(range(1,23)):\n",
    "        with h5py.File(os.path.join('../data/{}/chromo_{}.mat'.format(disease, i)), 'r') as f:\n",
    "            chrom = np.array(f.get('X')).T\n",
    "            assert chrom.shape[1] > chrom.shape[0]\n",
    "            chrom_2 = chrom.reshape(chrom.shape[0], -1, 3)[:, :, :2]\n",
    "\n",
    "        with h5py.File(os.path.join('../data/{}/chromo_{}.h5py'.format(disease, i)), 'w') as f:\n",
    "            f.create_dataset(\"X\", data=chrom_2)\n"
   ]
  },
  {
   "cell_type": "code",
   "execution_count": null,
   "metadata": {},
   "outputs": [],
   "source": []
  }
 ],
 "metadata": {
  "kernelspec": {
   "display_name": "Python 3",
   "language": "python",
   "name": "python3"
  },
  "language_info": {
   "codemirror_mode": {
    "name": "ipython",
    "version": 3
   },
   "file_extension": ".py",
   "mimetype": "text/x-python",
   "name": "python",
   "nbconvert_exporter": "python",
   "pygments_lexer": "ipython3",
   "version": "3.6.9"
  }
 },
 "nbformat": 4,
 "nbformat_minor": 2
}
