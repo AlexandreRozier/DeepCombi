{
 "cells": [
  {
   "cell_type": "code",
   "execution_count": 7,
   "metadata": {},
   "outputs": [
    {
     "name": "stderr",
     "output_type": "stream",
     "text": [
      "\n",
      "  0%|          | 0/5 [00:00<?, ?it/s]\u001b[A\n",
      " 20%|██        | 1/5 [00:19<01:18, 19.54s/it]\u001b[A\n",
      " 40%|████      | 2/5 [00:40<00:59, 19.82s/it]\u001b[A\n",
      " 60%|██████    | 3/5 [00:54<00:36, 18.34s/it]\u001b[A\n",
      " 80%|████████  | 4/5 [01:08<00:16, 16.80s/it]\u001b[A\n",
      "100%|██████████| 5/5 [01:22<00:00, 16.04s/it]\u001b[A"
     ]
    }
   ],
   "source": [
    "import os \n",
    "import h5py\n",
    "import numpy as np\n",
    "from tqdm import tqdm\n",
    "\n",
    "for i in tqdm(range(1,6)):\n",
    "    with h5py.File(os.path.join('../data/chromo_{}.mat'.format(i)), 'r') as f:\n",
    "        chrom = np.array(f.get('X')).T\n",
    "\n",
    "        chrom_2 = chrom.reshape(chrom.shape[0], -1, 3)[:, :, :2]\n",
    "\n",
    "    with h5py.File(os.path.join('../data/chromo_{}.h5py'.format(i)), 'w') as f:\n",
    "        f.create_dataset(\"X\", data=chrom_2)\n"
   ]
  },
  {
   "cell_type": "code",
   "execution_count": null,
   "metadata": {},
   "outputs": [],
   "source": []
  }
 ],
 "metadata": {
  "kernelspec": {
   "display_name": "Python 3",
   "language": "python",
   "name": "python3"
  },
  "language_info": {
   "codemirror_mode": {
    "name": "ipython",
    "version": 3
   },
   "file_extension": ".py",
   "mimetype": "text/x-python",
   "name": "python",
   "nbconvert_exporter": "python",
   "pygments_lexer": "ipython3",
   "version": "3.6.9"
  }
 },
 "nbformat": 4,
 "nbformat_minor": 2
}
