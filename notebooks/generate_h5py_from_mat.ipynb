{
 "cells": [
  {
   "cell_type": "code",
   "execution_count": null,
   "metadata": {
    "pycharm": {
     "is_executing": true,
     "name": "#%%\n"
    }
   },
   "outputs": [
    {
     "name": "stderr",
     "text": [
      "\r  0%|          | 0/22 [00:00<?, ?it/s]"
     ],
     "output_type": "stream"
    }
   ],
   "source": [
    "import os \n",
    "import h5py\n",
    "import numpy as np\n",
    "from tqdm import tqdm\n",
    "\n",
    "for disease in ['BD','CAD','HT','RA','T1D','T2D']:\n",
    "    for i in tqdm(range(1,23),leave=False):\n",
    "        print(\"pouet\")\n",
    "        with h5py.File(os.path.join('../data/{}/chromo_{}.mat'.format(disease, i)), 'r') as f:\n",
    "            chrom = np.array(f.get('X')).T\n",
    "            assert chrom.shape[1] > chrom.shape[0]\n",
    "            \n",
    "            chrom_2 = chrom.reshape(chrom.shape[0], -1, 3)[:, :, :2]\n",
    "            del chrom\n",
    "            \n",
    "        with h5py.File(os.path.join('../data/{}/chromo_{}.h5py'.format(disease, i)), 'w') as f:\n",
    "            f.create_dataset(\"X\", data=chrom_2)\n",
    "            del chrom_2\n",
    "\n"
   ]
  }
 ],
 "metadata": {
  "kernelspec": {
   "name": "combi",
   "language": "python",
   "display_name": "combi"
  },
  "language_info": {
   "codemirror_mode": {
    "name": "ipython",
    "version": 3
   },
   "file_extension": ".py",
   "mimetype": "text/x-python",
   "name": "python",
   "nbconvert_exporter": "python",
   "pygments_lexer": "ipython3",
   "version": "3.6.9"
  },
  "pycharm": {
   "stem_cell": {
    "cell_type": "raw",
    "source": [],
    "metadata": {
     "collapsed": false
    }
   }
  }
 },
 "nbformat": 4,
 "nbformat_minor": 2
}